{
 "cells": [
  {
   "cell_type": "code",
   "execution_count": 1,
   "id": "891a7514",
   "metadata": {},
   "outputs": [],
   "source": [
    "import pandas as pd\n",
    "from sklearn.model_selection import train_test_split\n",
    "from sklearn.feature_extraction.text import CountVectorizer"
   ]
  },
  {
   "cell_type": "markdown",
   "id": "79395853",
   "metadata": {},
   "source": [
    "<h1>Load Data"
   ]
  },
  {
   "cell_type": "code",
   "execution_count": 10,
   "id": "8895c121",
   "metadata": {},
   "outputs": [
    {
     "data": {
      "text/html": [
       "<div>\n",
       "<style scoped>\n",
       "    .dataframe tbody tr th:only-of-type {\n",
       "        vertical-align: middle;\n",
       "    }\n",
       "\n",
       "    .dataframe tbody tr th {\n",
       "        vertical-align: top;\n",
       "    }\n",
       "\n",
       "    .dataframe thead th {\n",
       "        text-align: right;\n",
       "    }\n",
       "</style>\n",
       "<table border=\"1\" class=\"dataframe\">\n",
       "  <thead>\n",
       "    <tr style=\"text-align: right;\">\n",
       "      <th></th>\n",
       "      <th>review</th>\n",
       "      <th>sentiment</th>\n",
       "    </tr>\n",
       "  </thead>\n",
       "  <tbody>\n",
       "    <tr>\n",
       "      <th>0</th>\n",
       "      <td>One of the other reviewers has mentioned that ...</td>\n",
       "      <td>positive</td>\n",
       "    </tr>\n",
       "    <tr>\n",
       "      <th>1</th>\n",
       "      <td>A wonderful little production. &lt;br /&gt;&lt;br /&gt;The...</td>\n",
       "      <td>positive</td>\n",
       "    </tr>\n",
       "    <tr>\n",
       "      <th>2</th>\n",
       "      <td>I thought this was a wonderful way to spend ti...</td>\n",
       "      <td>positive</td>\n",
       "    </tr>\n",
       "    <tr>\n",
       "      <th>3</th>\n",
       "      <td>Basically there's a family where a little boy ...</td>\n",
       "      <td>negative</td>\n",
       "    </tr>\n",
       "    <tr>\n",
       "      <th>4</th>\n",
       "      <td>Petter Mattei's \"Love in the Time of Money\" is...</td>\n",
       "      <td>positive</td>\n",
       "    </tr>\n",
       "  </tbody>\n",
       "</table>\n",
       "</div>"
      ],
      "text/plain": [
       "                                              review sentiment\n",
       "0  One of the other reviewers has mentioned that ...  positive\n",
       "1  A wonderful little production. <br /><br />The...  positive\n",
       "2  I thought this was a wonderful way to spend ti...  positive\n",
       "3  Basically there's a family where a little boy ...  negative\n",
       "4  Petter Mattei's \"Love in the Time of Money\" is...  positive"
      ]
     },
     "execution_count": 10,
     "metadata": {},
     "output_type": "execute_result"
    }
   ],
   "source": [
    "# Charger les données dans un DataFrame (df)\n",
    "# Remplacez cela par le code qui charge vos données\n",
    "df = pd.read_csv(\"C:\\\\Users\\\\lenovo\\\\Documents\\\\DSBD\\\\S3\\\\4 NLP\\\\Projects\\\\Film Categorize Detection\\\\IMDB Dataset.csv\")\n",
    "df.head()"
   ]
  },
  {
   "cell_type": "code",
   "execution_count": 11,
   "id": "38a938f5",
   "metadata": {},
   "outputs": [
    {
     "data": {
      "text/plain": [
       "(50000, 2)"
      ]
     },
     "execution_count": 11,
     "metadata": {},
     "output_type": "execute_result"
    }
   ],
   "source": [
    "df.shape"
   ]
  },
  {
   "cell_type": "code",
   "execution_count": 12,
   "id": "6f38ec4e",
   "metadata": {},
   "outputs": [
    {
     "name": "stdout",
     "output_type": "stream",
     "text": [
      "<class 'pandas.core.frame.DataFrame'>\n",
      "RangeIndex: 50000 entries, 0 to 49999\n",
      "Data columns (total 2 columns):\n",
      " #   Column     Non-Null Count  Dtype \n",
      "---  ------     --------------  ----- \n",
      " 0   review     50000 non-null  object\n",
      " 1   sentiment  50000 non-null  object\n",
      "dtypes: object(2)\n",
      "memory usage: 781.4+ KB\n"
     ]
    }
   ],
   "source": [
    "df.info()"
   ]
  },
  {
   "cell_type": "markdown",
   "id": "377dfb37",
   "metadata": {},
   "source": [
    "<h1>Pretraitement"
   ]
  },
  {
   "cell_type": "code",
   "execution_count": 13,
   "id": "00ea79f8",
   "metadata": {},
   "outputs": [
    {
     "data": {
      "text/html": [
       "<div>\n",
       "<style scoped>\n",
       "    .dataframe tbody tr th:only-of-type {\n",
       "        vertical-align: middle;\n",
       "    }\n",
       "\n",
       "    .dataframe tbody tr th {\n",
       "        vertical-align: top;\n",
       "    }\n",
       "\n",
       "    .dataframe thead th {\n",
       "        text-align: right;\n",
       "    }\n",
       "</style>\n",
       "<table border=\"1\" class=\"dataframe\">\n",
       "  <thead>\n",
       "    <tr style=\"text-align: right;\">\n",
       "      <th></th>\n",
       "      <th>review</th>\n",
       "      <th>sentiment</th>\n",
       "    </tr>\n",
       "  </thead>\n",
       "  <tbody>\n",
       "    <tr>\n",
       "      <th>0</th>\n",
       "      <td>One of the other reviewers has mentioned that ...</td>\n",
       "      <td>1</td>\n",
       "    </tr>\n",
       "    <tr>\n",
       "      <th>1</th>\n",
       "      <td>A wonderful little production. &lt;br /&gt;&lt;br /&gt;The...</td>\n",
       "      <td>1</td>\n",
       "    </tr>\n",
       "    <tr>\n",
       "      <th>2</th>\n",
       "      <td>I thought this was a wonderful way to spend ti...</td>\n",
       "      <td>1</td>\n",
       "    </tr>\n",
       "    <tr>\n",
       "      <th>3</th>\n",
       "      <td>Basically there's a family where a little boy ...</td>\n",
       "      <td>0</td>\n",
       "    </tr>\n",
       "    <tr>\n",
       "      <th>4</th>\n",
       "      <td>Petter Mattei's \"Love in the Time of Money\" is...</td>\n",
       "      <td>1</td>\n",
       "    </tr>\n",
       "  </tbody>\n",
       "</table>\n",
       "</div>"
      ],
      "text/plain": [
       "                                              review sentiment\n",
       "0  One of the other reviewers has mentioned that ...         1\n",
       "1  A wonderful little production. <br /><br />The...         1\n",
       "2  I thought this was a wonderful way to spend ti...         1\n",
       "3  Basically there's a family where a little boy ...         0\n",
       "4  Petter Mattei's \"Love in the Time of Money\" is...         1"
      ]
     },
     "execution_count": 13,
     "metadata": {},
     "output_type": "execute_result"
    }
   ],
   "source": [
    "df.loc[df['sentiment'] == 'positive', 'sentiment'] = 1\n",
    "df.loc[df['sentiment'] == 'negative', 'sentiment'] = 0\n",
    "\n",
    "df.head()"
   ]
  },
  {
   "cell_type": "code",
   "execution_count": 14,
   "id": "7bd919fd",
   "metadata": {},
   "outputs": [
    {
     "data": {
      "text/html": [
       "<div>\n",
       "<style scoped>\n",
       "    .dataframe tbody tr th:only-of-type {\n",
       "        vertical-align: middle;\n",
       "    }\n",
       "\n",
       "    .dataframe tbody tr th {\n",
       "        vertical-align: top;\n",
       "    }\n",
       "\n",
       "    .dataframe thead th {\n",
       "        text-align: right;\n",
       "    }\n",
       "</style>\n",
       "<table border=\"1\" class=\"dataframe\">\n",
       "  <thead>\n",
       "    <tr style=\"text-align: right;\">\n",
       "      <th></th>\n",
       "      <th>review</th>\n",
       "      <th>sentiment</th>\n",
       "    </tr>\n",
       "  </thead>\n",
       "  <tbody>\n",
       "    <tr>\n",
       "      <th>count</th>\n",
       "      <td>50000</td>\n",
       "      <td>50000</td>\n",
       "    </tr>\n",
       "    <tr>\n",
       "      <th>unique</th>\n",
       "      <td>49582</td>\n",
       "      <td>2</td>\n",
       "    </tr>\n",
       "    <tr>\n",
       "      <th>top</th>\n",
       "      <td>Loved today's show!!! It was a variety and not...</td>\n",
       "      <td>1</td>\n",
       "    </tr>\n",
       "    <tr>\n",
       "      <th>freq</th>\n",
       "      <td>5</td>\n",
       "      <td>25000</td>\n",
       "    </tr>\n",
       "  </tbody>\n",
       "</table>\n",
       "</div>"
      ],
      "text/plain": [
       "                                                   review  sentiment\n",
       "count                                               50000      50000\n",
       "unique                                              49582          2\n",
       "top     Loved today's show!!! It was a variety and not...          1\n",
       "freq                                                    5      25000"
      ]
     },
     "execution_count": 14,
     "metadata": {},
     "output_type": "execute_result"
    }
   ],
   "source": [
    "df.describe()"
   ]
  },
  {
   "cell_type": "code",
   "execution_count": 25,
   "id": "a9e81664",
   "metadata": {},
   "outputs": [
    {
     "name": "stdout",
     "output_type": "stream",
     "text": [
      "<class 'pandas.core.frame.DataFrame'>\n",
      "RangeIndex: 50000 entries, 0 to 49999\n",
      "Data columns (total 2 columns):\n",
      " #   Column     Non-Null Count  Dtype \n",
      "---  ------     --------------  ----- \n",
      " 0   review     50000 non-null  object\n",
      " 1   sentiment  50000 non-null  object\n",
      "dtypes: object(2)\n",
      "memory usage: 781.4+ KB\n"
     ]
    }
   ],
   "source": [
    "df.info()"
   ]
  },
  {
   "cell_type": "code",
   "execution_count": 26,
   "id": "eae2607e",
   "metadata": {
    "scrolled": true
   },
   "outputs": [
    {
     "data": {
      "text/plain": [
       "sentiment\n",
       "1    25000\n",
       "0    25000\n",
       "Name: count, dtype: int64"
      ]
     },
     "execution_count": 26,
     "metadata": {},
     "output_type": "execute_result"
    }
   ],
   "source": [
    "df['sentiment'].value_counts()"
   ]
  },
  {
   "cell_type": "code",
   "execution_count": 27,
   "id": "ffb86b6d",
   "metadata": {},
   "outputs": [],
   "source": [
    "df['sentiment'] = df['sentiment'].astype(int)"
   ]
  },
  {
   "cell_type": "code",
   "execution_count": 28,
   "id": "769b63f4",
   "metadata": {},
   "outputs": [
    {
     "name": "stdout",
     "output_type": "stream",
     "text": [
      "<class 'pandas.core.frame.DataFrame'>\n",
      "RangeIndex: 50000 entries, 0 to 49999\n",
      "Data columns (total 2 columns):\n",
      " #   Column     Non-Null Count  Dtype \n",
      "---  ------     --------------  ----- \n",
      " 0   review     50000 non-null  object\n",
      " 1   sentiment  50000 non-null  int32 \n",
      "dtypes: int32(1), object(1)\n",
      "memory usage: 586.1+ KB\n"
     ]
    }
   ],
   "source": [
    "df.info()"
   ]
  },
  {
   "cell_type": "code",
   "execution_count": 29,
   "id": "e079cfa7",
   "metadata": {},
   "outputs": [],
   "source": [
    "X = df['review']\n",
    "y = df['sentiment']  "
   ]
  },
  {
   "cell_type": "code",
   "execution_count": 30,
   "id": "9acf757b",
   "metadata": {},
   "outputs": [],
   "source": [
    "# Diviser les données en ensembles d'entraînement et de test\n",
    "X_train, X_test, y_train, y_test = train_test_split(\n",
    "    X, y,                   # Données à diviser\n",
    "    test_size=0.33,         # 33% des données pour le test\n",
    "    random_state=53         # Pour reproduire les résultats\n",
    ")"
   ]
  },
  {
   "cell_type": "markdown",
   "id": "5fcf3467",
   "metadata": {},
   "source": [
    "<h3>CountVectorizer the Text"
   ]
  },
  {
   "cell_type": "code",
   "execution_count": 31,
   "id": "bfc14e78",
   "metadata": {},
   "outputs": [],
   "source": [
    "# Initialiser le CountVectorizer avec l'option pour ignorer les mots vides en anglais\n",
    "count_vectorizer = CountVectorizer(stop_words='english')"
   ]
  },
  {
   "cell_type": "code",
   "execution_count": 46,
   "id": "f3ac2067",
   "metadata": {},
   "outputs": [],
   "source": [
    "# Ajuster et transformer les données d'entraînement\n",
    "count_train = count_vectorizer.fit_transform(X_train.values)\n",
    "\n",
    "# Transformer les données de test avec le même vectoriseur\n",
    "count_test = count_vectorizer.transform(X_test.values)"
   ]
  },
  {
   "cell_type": "code",
   "execution_count": 33,
   "id": "824b44f7",
   "metadata": {},
   "outputs": [
    {
     "name": "stdout",
     "output_type": "stream",
     "text": [
      "Données d'entraînement vectorisées: (33500, 85860)\n",
      "Données de test vectorisées: (16500, 85860)\n"
     ]
    }
   ],
   "source": [
    "# Afficher un aperçu des résultats (optionnel)\n",
    "print(\"Données d'entraînement vectorisées:\", count_train.shape)\n",
    "print(\"Données de test vectorisées:\", count_test.shape)"
   ]
  },
  {
   "cell_type": "markdown",
   "id": "20c687ea",
   "metadata": {},
   "source": [
    "<h1>Model Naive Bayes"
   ]
  },
  {
   "cell_type": "code",
   "execution_count": 34,
   "id": "24cc3138",
   "metadata": {},
   "outputs": [],
   "source": [
    "# Importer les bibliothèques nécessaires\n",
    "from sklearn.naive_bayes import MultinomialNB\n",
    "from sklearn import metrics"
   ]
  },
  {
   "cell_type": "code",
   "execution_count": 35,
   "id": "64aa3042",
   "metadata": {},
   "outputs": [],
   "source": [
    "# Initialiser le classificateur Naive Bayes multinomial\n",
    "nb_classifier = MultinomialNB()"
   ]
  },
  {
   "cell_type": "code",
   "execution_count": 36,
   "id": "17114c37",
   "metadata": {},
   "outputs": [
    {
     "name": "stdout",
     "output_type": "stream",
     "text": [
      "Type de y_train : <class 'pandas.core.series.Series'>, type de y_test : <class 'pandas.core.series.Series'>\n",
      "Exemples dans y_train : 23581    0\n",
      "45748    0\n",
      "33822    0\n",
      "25937    1\n",
      "32724    0\n",
      "Name: sentiment, dtype: int32\n",
      "Valeurs uniques dans y_train : {0, 1}\n",
      "Valeurs uniques dans y_test : {0, 1}\n"
     ]
    }
   ],
   "source": [
    "# Vérifier les types et dimensions des labels\n",
    "print(f\"Type de y_train : {type(y_train)}, type de y_test : {type(y_test)}\")\n",
    "print(f\"Exemples dans y_train : {y_train[:5]}\")\n",
    "\n",
    "# Vérifier si y_train et y_test contiennent des valeurs valides\n",
    "print(f\"Valeurs uniques dans y_train : {set(y_train)}\")\n",
    "print(f\"Valeurs uniques dans y_test : {set(y_test)}\")"
   ]
  },
  {
   "cell_type": "code",
   "execution_count": 38,
   "id": "4fb32a16",
   "metadata": {},
   "outputs": [
    {
     "data": {
      "text/html": [
       "<style>#sk-container-id-1 {color: black;}#sk-container-id-1 pre{padding: 0;}#sk-container-id-1 div.sk-toggleable {background-color: white;}#sk-container-id-1 label.sk-toggleable__label {cursor: pointer;display: block;width: 100%;margin-bottom: 0;padding: 0.3em;box-sizing: border-box;text-align: center;}#sk-container-id-1 label.sk-toggleable__label-arrow:before {content: \"▸\";float: left;margin-right: 0.25em;color: #696969;}#sk-container-id-1 label.sk-toggleable__label-arrow:hover:before {color: black;}#sk-container-id-1 div.sk-estimator:hover label.sk-toggleable__label-arrow:before {color: black;}#sk-container-id-1 div.sk-toggleable__content {max-height: 0;max-width: 0;overflow: hidden;text-align: left;background-color: #f0f8ff;}#sk-container-id-1 div.sk-toggleable__content pre {margin: 0.2em;color: black;border-radius: 0.25em;background-color: #f0f8ff;}#sk-container-id-1 input.sk-toggleable__control:checked~div.sk-toggleable__content {max-height: 200px;max-width: 100%;overflow: auto;}#sk-container-id-1 input.sk-toggleable__control:checked~label.sk-toggleable__label-arrow:before {content: \"▾\";}#sk-container-id-1 div.sk-estimator input.sk-toggleable__control:checked~label.sk-toggleable__label {background-color: #d4ebff;}#sk-container-id-1 div.sk-label input.sk-toggleable__control:checked~label.sk-toggleable__label {background-color: #d4ebff;}#sk-container-id-1 input.sk-hidden--visually {border: 0;clip: rect(1px 1px 1px 1px);clip: rect(1px, 1px, 1px, 1px);height: 1px;margin: -1px;overflow: hidden;padding: 0;position: absolute;width: 1px;}#sk-container-id-1 div.sk-estimator {font-family: monospace;background-color: #f0f8ff;border: 1px dotted black;border-radius: 0.25em;box-sizing: border-box;margin-bottom: 0.5em;}#sk-container-id-1 div.sk-estimator:hover {background-color: #d4ebff;}#sk-container-id-1 div.sk-parallel-item::after {content: \"\";width: 100%;border-bottom: 1px solid gray;flex-grow: 1;}#sk-container-id-1 div.sk-label:hover label.sk-toggleable__label {background-color: #d4ebff;}#sk-container-id-1 div.sk-serial::before {content: \"\";position: absolute;border-left: 1px solid gray;box-sizing: border-box;top: 0;bottom: 0;left: 50%;z-index: 0;}#sk-container-id-1 div.sk-serial {display: flex;flex-direction: column;align-items: center;background-color: white;padding-right: 0.2em;padding-left: 0.2em;position: relative;}#sk-container-id-1 div.sk-item {position: relative;z-index: 1;}#sk-container-id-1 div.sk-parallel {display: flex;align-items: stretch;justify-content: center;background-color: white;position: relative;}#sk-container-id-1 div.sk-item::before, #sk-container-id-1 div.sk-parallel-item::before {content: \"\";position: absolute;border-left: 1px solid gray;box-sizing: border-box;top: 0;bottom: 0;left: 50%;z-index: -1;}#sk-container-id-1 div.sk-parallel-item {display: flex;flex-direction: column;z-index: 1;position: relative;background-color: white;}#sk-container-id-1 div.sk-parallel-item:first-child::after {align-self: flex-end;width: 50%;}#sk-container-id-1 div.sk-parallel-item:last-child::after {align-self: flex-start;width: 50%;}#sk-container-id-1 div.sk-parallel-item:only-child::after {width: 0;}#sk-container-id-1 div.sk-dashed-wrapped {border: 1px dashed gray;margin: 0 0.4em 0.5em 0.4em;box-sizing: border-box;padding-bottom: 0.4em;background-color: white;}#sk-container-id-1 div.sk-label label {font-family: monospace;font-weight: bold;display: inline-block;line-height: 1.2em;}#sk-container-id-1 div.sk-label-container {text-align: center;}#sk-container-id-1 div.sk-container {/* jupyter's `normalize.less` sets `[hidden] { display: none; }` but bootstrap.min.css set `[hidden] { display: none !important; }` so we also need the `!important` here to be able to override the default hidden behavior on the sphinx rendered scikit-learn.org. See: https://github.com/scikit-learn/scikit-learn/issues/21755 */display: inline-block !important;position: relative;}#sk-container-id-1 div.sk-text-repr-fallback {display: none;}</style><div id=\"sk-container-id-1\" class=\"sk-top-container\"><div class=\"sk-text-repr-fallback\"><pre>MultinomialNB()</pre><b>In a Jupyter environment, please rerun this cell to show the HTML representation or trust the notebook. <br />On GitHub, the HTML representation is unable to render, please try loading this page with nbviewer.org.</b></div><div class=\"sk-container\" hidden><div class=\"sk-item\"><div class=\"sk-estimator sk-toggleable\"><input class=\"sk-toggleable__control sk-hidden--visually\" id=\"sk-estimator-id-1\" type=\"checkbox\" checked><label for=\"sk-estimator-id-1\" class=\"sk-toggleable__label sk-toggleable__label-arrow\">MultinomialNB</label><div class=\"sk-toggleable__content\"><pre>MultinomialNB()</pre></div></div></div></div></div>"
      ],
      "text/plain": [
       "MultinomialNB()"
      ]
     },
     "execution_count": 38,
     "metadata": {},
     "output_type": "execute_result"
    }
   ],
   "source": [
    "# Entraîner le classificateur sur les données d'entraînement\n",
    "nb_classifier.fit(count_train, y_train)"
   ]
  },
  {
   "cell_type": "code",
   "execution_count": 39,
   "id": "81ed62db",
   "metadata": {},
   "outputs": [],
   "source": [
    "# Prédire les labels pour les données de test\n",
    "pred = nb_classifier.predict(count_test)\n",
    "\n",
    "# Calculer et afficher la précision du modèle\n",
    "accuracy = metrics.accuracy_score(y_test, pred)"
   ]
  },
  {
   "cell_type": "code",
   "execution_count": 40,
   "id": "ab249626",
   "metadata": {},
   "outputs": [
    {
     "name": "stdout",
     "output_type": "stream",
     "text": [
      "Accuracy of the model: 0.86\n"
     ]
    }
   ],
   "source": [
    "print(f\"Accuracy of the model: {accuracy:.2f}\")"
   ]
  },
  {
   "cell_type": "markdown",
   "id": "d208cd54",
   "metadata": {},
   "source": [
    "<h1>Testing"
   ]
  },
  {
   "cell_type": "markdown",
   "id": "f4a156ae",
   "metadata": {},
   "source": [
    "<h3>Le filme"
   ]
  },
  {
   "cell_type": "code",
   "execution_count": 42,
   "id": "5bd9beae",
   "metadata": {},
   "outputs": [
    {
     "data": {
      "text/plain": [
       "review       Phil the Alien is one of those quirky films wh...\n",
       "sentiment                                                    0\n",
       "Name: 10, dtype: object"
      ]
     },
     "execution_count": 42,
     "metadata": {},
     "output_type": "execute_result"
    }
   ],
   "source": [
    "Film = df.iloc[10]\n",
    "Film"
   ]
  },
  {
   "cell_type": "code",
   "execution_count": 43,
   "id": "c44e8d01",
   "metadata": {
    "scrolled": true
   },
   "outputs": [
    {
     "name": "stdout",
     "output_type": "stream",
     "text": [
      "review = Phil the Alien is one of those quirky films where the humour is based around the oddness of everything rather than actual punchlines.<br /><br />At first it was very odd and pretty funny but as the movie progressed I didn't find the jokes or oddness funny anymore.<br /><br />Its a low budget film (thats never a problem in itself), there were some pretty interesting characters, but eventually I just lost interest.<br /><br />I imagine this film would appeal to a stoner who is currently partaking.<br /><br />For something similar but better try \"Brother from another planet\"\n",
      "sentiment = 0\n"
     ]
    }
   ],
   "source": [
    "review, sentiment = Film['review'], Film['sentiment']\n",
    "print(f\"review = {review}\")\n",
    "print(f\"sentiment = {sentiment}\")"
   ]
  },
  {
   "cell_type": "markdown",
   "id": "f592adc5",
   "metadata": {},
   "source": [
    "<h3>CountVectorizer le film"
   ]
  },
  {
   "cell_type": "code",
   "execution_count": 56,
   "id": "37c43227",
   "metadata": {},
   "outputs": [],
   "source": [
    "# Initialiser le CountVectorizer avec l'option pour ignorer les mots vides en anglais\n",
    "count_vectorizer = CountVectorizer(stop_words='english')"
   ]
  },
  {
   "cell_type": "code",
   "execution_count": 58,
   "id": "dcf32831",
   "metadata": {
    "scrolled": true
   },
   "outputs": [
    {
     "name": "stdout",
     "output_type": "stream",
     "text": [
      "Type de review : <class 'list'>\n",
      "Vecteur résultant (sparse matrix) :   (0, 1933)\t1\n",
      "  (0, 3018)\t1\n",
      "  (0, 4254)\t1\n",
      "  (0, 4400)\t1\n",
      "  (0, 6985)\t1\n",
      "  (0, 8117)\t1\n",
      "  (0, 10024)\t8\n",
      "  (0, 10711)\t1\n",
      "  (0, 10944)\t1\n",
      "  (0, 13440)\t1\n",
      "  (0, 18482)\t1\n",
      "  (0, 21039)\t1\n",
      "  (0, 26012)\t1\n",
      "  (0, 28068)\t2\n",
      "  (0, 28119)\t1\n",
      "  (0, 30162)\t2\n",
      "  (0, 36766)\t1\n",
      "  (0, 37424)\t1\n",
      "  (0, 38956)\t1\n",
      "  (0, 40593)\t1\n",
      "  (0, 40955)\t1\n",
      "  (0, 45293)\t1\n",
      "  (0, 45433)\t1\n",
      "  (0, 50719)\t1\n",
      "  (0, 53593)\t1\n",
      "  (0, 53603)\t2\n",
      "  (0, 57022)\t1\n",
      "  (0, 57723)\t1\n",
      "  (0, 59268)\t2\n",
      "  (0, 59475)\t1\n",
      "  (0, 59623)\t1\n",
      "  (0, 60290)\t1\n",
      "  (0, 60856)\t1\n",
      "  (0, 69109)\t1\n",
      "  (0, 72608)\t1\n",
      "  (0, 76065)\t1\n",
      "  (0, 78461)\t1\n"
     ]
    }
   ],
   "source": [
    "# Vérifier le contenu de review\n",
    "print(f\"Type de review : {type(review)}\")\n",
    "\n",
    "# Si review est une chaîne, transformez-la en une liste\n",
    "if isinstance(review, str):\n",
    "    review = [review]  # Convertir en liste contenant une seule chaîne\n",
    "\n",
    "# Ajuster et transformer les données d'entraînement\n",
    "count_train = count_vectorizer.fit_transform(X_train.values)\n",
    "\n",
    "# Transformer les données de test avec le même vectoriseur\n",
    "count_test = count_vectorizer.transform(review)\n",
    "\n",
    "# Afficher le résultat\n",
    "print(\"Vecteur résultant (sparse matrix) :\", count_test)"
   ]
  },
  {
   "cell_type": "code",
   "execution_count": 59,
   "id": "2fdfaf08",
   "metadata": {},
   "outputs": [
    {
     "name": "stdout",
     "output_type": "stream",
     "text": [
      "Données de test vectorisées: (1, 85860)\n"
     ]
    }
   ],
   "source": [
    "# Afficher un aperçu des résultats (optionnel)\n",
    "print(\"Données de test vectorisées:\", count_test.shape)"
   ]
  },
  {
   "cell_type": "markdown",
   "id": "1474ed0a",
   "metadata": {},
   "source": [
    "<h3>Applique le model"
   ]
  },
  {
   "cell_type": "code",
   "execution_count": 61,
   "id": "ebe2ce07",
   "metadata": {},
   "outputs": [],
   "source": [
    "pred = nb_classifier.predict(count_test)"
   ]
  },
  {
   "cell_type": "code",
   "execution_count": 62,
   "id": "684f4f0a",
   "metadata": {},
   "outputs": [
    {
     "name": "stdout",
     "output_type": "stream",
     "text": [
      "Sentiment predite est [0]\n",
      "Sentiment real est 0\n"
     ]
    }
   ],
   "source": [
    "print(f\"Sentiment predite est {pred}\")\n",
    "print(f\"Sentiment real est {sentiment}\")"
   ]
  },
  {
   "cell_type": "code",
   "execution_count": null,
   "id": "0d88383d",
   "metadata": {},
   "outputs": [],
   "source": []
  }
 ],
 "metadata": {
  "kernelspec": {
   "display_name": "Python 3 (ipykernel)",
   "language": "python",
   "name": "python3"
  },
  "language_info": {
   "codemirror_mode": {
    "name": "ipython",
    "version": 3
   },
   "file_extension": ".py",
   "mimetype": "text/x-python",
   "name": "python",
   "nbconvert_exporter": "python",
   "pygments_lexer": "ipython3",
   "version": "3.11.5"
  }
 },
 "nbformat": 4,
 "nbformat_minor": 5
}
